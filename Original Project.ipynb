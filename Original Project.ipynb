{
 "cells": [
  {
   "cell_type": "code",
   "execution_count": 8,
   "id": "3ed24c36",
   "metadata": {},
   "outputs": [
    {
     "name": "stdout",
     "output_type": "stream",
     "text": [
      "Error reading documents: Authentication failed., full error: {'ok': 0.0, 'errmsg': 'Authentication failed.', 'code': 18, 'codeName': 'AuthenticationFailed'}\n"
     ]
    },
    {
     "name": "stderr",
     "output_type": "stream",
     "text": [
      " * Running on http://127.0.0.1:8523/ (Press CTRL+C to quit)\n",
      "127.0.0.1 - - [26/Aug/2024 01:21:26] \"GET /_alive_4636f277-c7b9-45b2-9cd7-3be4f7f6b64e HTTP/1.1\" 200 -\n"
     ]
    },
    {
     "name": "stdout",
     "output_type": "stream",
     "text": [
      "Dash app running on http://127.0.0.1:8523/\n"
     ]
    },
    {
     "name": "stderr",
     "output_type": "stream",
     "text": [
      "127.0.0.1 - - [26/Aug/2024 01:21:30] \"GET / HTTP/1.1\" 200 -\n",
      "127.0.0.1 - - [26/Aug/2024 01:21:31] \"GET /_dash-layout HTTP/1.1\" 200 -\n",
      "127.0.0.1 - - [26/Aug/2024 01:21:31] \"GET /_dash-dependencies HTTP/1.1\" 200 -\n",
      "127.0.0.1 - - [26/Aug/2024 01:21:31] \"GET /_favicon.ico?v=2.8.1 HTTP/1.1\" 200 -\n",
      "127.0.0.1 - - [26/Aug/2024 01:21:31] \"GET /_dash-component-suites/dash/dash_table/async-highlight.js HTTP/1.1\" 304 -\n",
      "127.0.0.1 - - [26/Aug/2024 01:21:31] \"GET /_dash-component-suites/dash/dash_table/async-table.js HTTP/1.1\" 304 -\n",
      "127.0.0.1 - - [26/Aug/2024 01:21:31] \"POST /_dash-update-component HTTP/1.1\" 200 -\n",
      "127.0.0.1 - - [26/Aug/2024 01:21:31] \"POST /_dash-update-component HTTP/1.1\" 200 -\n",
      "127.0.0.1 - - [26/Aug/2024 01:21:31] \"POST /_dash-update-component HTTP/1.1\" 200 -\n",
      "127.0.0.1 - - [26/Aug/2024 01:21:31] \"POST /_dash-update-component HTTP/1.1\" 500 -\n",
      "127.0.0.1 - - [26/Aug/2024 01:21:31] \"POST /_dash-update-component HTTP/1.1\" 200 -\n",
      "127.0.0.1 - - [26/Aug/2024 01:21:31] \"POST /_dash-update-component HTTP/1.1\" 500 -\n"
     ]
    },
    {
     "name": "stdout",
     "output_type": "stream",
     "text": [
      "Error reading documents: Authentication failed., full error: {'ok': 0.0, 'errmsg': 'Authentication failed.', 'code': 18, 'codeName': 'AuthenticationFailed'}\n"
     ]
    },
    {
     "name": "stderr",
     "output_type": "stream",
     "text": [
      "127.0.0.1 - - [26/Aug/2024 01:21:36] \"POST /_dash-update-component HTTP/1.1\" 200 -\n"
     ]
    },
    {
     "name": "stdout",
     "output_type": "stream",
     "text": [
      "Error reading documents: Authentication failed., full error: {'ok': 0.0, 'errmsg': 'Authentication failed.', 'code': 18, 'codeName': 'AuthenticationFailed'}\n"
     ]
    },
    {
     "name": "stderr",
     "output_type": "stream",
     "text": [
      "127.0.0.1 - - [26/Aug/2024 01:21:37] \"POST /_dash-update-component HTTP/1.1\" 200 -\n"
     ]
    },
    {
     "name": "stdout",
     "output_type": "stream",
     "text": [
      "Error reading documents: Authentication failed., full error: {'ok': 0.0, 'errmsg': 'Authentication failed.', 'code': 18, 'codeName': 'AuthenticationFailed'}\n"
     ]
    },
    {
     "name": "stderr",
     "output_type": "stream",
     "text": [
      "127.0.0.1 - - [26/Aug/2024 01:21:38] \"POST /_dash-update-component HTTP/1.1\" 200 -\n"
     ]
    },
    {
     "name": "stdout",
     "output_type": "stream",
     "text": [
      "Error reading documents: Authentication failed., full error: {'ok': 0.0, 'errmsg': 'Authentication failed.', 'code': 18, 'codeName': 'AuthenticationFailed'}\n"
     ]
    }
   ],
   "source": [
    "from jupyter_dash import JupyterDash\n",
    "import dash\n",
    "import dash_leaflet as dl\n",
    "from dash import dcc\n",
    "from dash import html\n",
    "import plotly.express as px\n",
    "from dash import dash_table as dt\n",
    "from dash.dependencies import Input, Output, State\n",
    "import base64\n",
    "import os\n",
    "import numpy as np\n",
    "import pandas as pd\n",
    "from pymongo import MongoClient\n",
    "from bson.json_util import dumps\n",
    "import base64\n",
    "\n",
    "# Importing AnimalShelter class \n",
    "from animalShelter import AnimalShelter\n",
    "\n",
    "###########################\n",
    "# Data Manipulation / Model\n",
    "###########################\n",
    "username = \"aacuser\"\n",
    "password = \"HelloKitty\"\n",
    "animals = AnimalShelter(username, password)\n",
    "\n",
    "# Read initial data to display on dashboard\n",
    "df = pd.DataFrame.from_records(animals.read({}))\n",
    "\n",
    "#########################\n",
    "# Dashboard Layout / View\n",
    "#########################\n",
    "# create dash application\n",
    "external_stylesheets = ['https://codepen.io/chriddyp/pen/bWLwgP.css']\n",
    "app = JupyterDash(__name__, external_stylesheets=external_stylesheets)\n",
    "\n",
    "# Encode image to be used in the app\n",
    "image_filename = 'Grazioso Salvare Logo.png'  # replace with your own image\n",
    "encoded_image = base64.b64encode(open(image_filename, 'rb').read())\n",
    "\n",
    "app.layout = html.Div([\n",
    "    html.Div(id='hidden-div', style={'display': 'none'}),\n",
    "    html.Center(html.B(html.H1('SNHU CS-340 Dashboard'))),\n",
    "    html.Center(html.B(html.H2('Harrielle Monestime'))),\n",
    "    html.Hr(),\n",
    "    html.Center(html.Img(id='customer-image', src='data:image/png;base64,{}'.format(encoded_image.decode()), alt='Grazioso Salvare Logo')),\n",
    "    html.Hr(),\n",
    "    \n",
    "    # Filter Options\n",
    "    html.Div([\n",
    "        dcc.RadioItems(\n",
    "            id='filter-type',\n",
    "            options=[\n",
    "                {'label': 'Water Rescue', 'value': 'water'},\n",
    "                {'label': 'Mountain/Wilderness Rescue', 'value': 'mount'},\n",
    "                {'label': 'Disaster Rescue and Individual Tracking', 'value': 'disaster'},\n",
    "                {'label': 'Reset', 'value': 'reset'}\n",
    "            ],\n",
    "            value='reset'\n",
    "        )\n",
    "    ]),\n",
    "    \n",
    "    html.Hr(),\n",
    "    \n",
    "    # Data Table\n",
    "    dt.DataTable(\n",
    "        id='datatable-id',\n",
    "        columns=[{\"name\": i, \"id\": i, \"deletable\": False, \"selectable\": True} for i in df.columns],\n",
    "        data=df.to_dict('records'),\n",
    "        editable=False,\n",
    "        sort_action=\"native\",\n",
    "        sort_mode=\"multi\",\n",
    "        column_selectable=\"single\",\n",
    "        row_selectable=\"single\",\n",
    "        row_deletable=False,\n",
    "        selected_columns=[],\n",
    "        selected_rows=[0],\n",
    "        page_action=\"native\",\n",
    "        page_current=0,\n",
    "        page_size=10,\n",
    "    ),\n",
    "    \n",
    "    html.Br(),\n",
    "    html.Hr(),\n",
    "    \n",
    "    # Charts and Maps\n",
    "    html.Div(className='row', style={'display': 'flex'}, children=[\n",
    "        html.Div(id='graph-id', className='col s12 m6'),\n",
    "        html.Div(id='map-id', className='col s12 m6')\n",
    "    ])\n",
    "])\n",
    "\n",
    "#############################################\n",
    "# Interaction Between Components / Controller\n",
    "#############################################\n",
    "\n",
    "# Radio button filters\n",
    "@app.callback(\n",
    "    [Output('datatable-id', 'data'), Output('datatable-id', 'columns')],\n",
    "    [Input('filter-type', 'value')]\n",
    ")\n",
    "def update_dashboard(filter_type):\n",
    "    # Water Rescue filter\n",
    "    if filter_type == 'water':\n",
    "        df = pd.DataFrame.from_records(animals.read({\n",
    "            \"animal_type\": \"Dog\",\n",
    "            \"breed\": {\"$in\": [\"Labrador Retriever Mix\", \"Chesapeake Bay Retriever\", \"Newfoundland\"]},\n",
    "            \"sex_upon_outcome\": \"Intact Female\",\n",
    "            \"age_upon_outcome_in_weeks\": {\"$gte\": 26.0, \"$lte\": 156.0}\n",
    "        }))\n",
    "    # Mountain or Wilderness Rescue filter\n",
    "    elif filter_type == 'mount':\n",
    "        df = pd.DataFrame.from_records(animals.read({\n",
    "            \"animal_type\": \"Dog\",\n",
    "            \"breed\": {\"$in\": [\"German Shepherd\", \"Alaskan Malamute\", \"Old English Sheepdog\", \"Siberian Husky\", \"Rottweiler\"]},\n",
    "            \"sex_upon_outcome\": \"Intact Male\",\n",
    "            \"age_upon_outcome_in_weeks\": {\"$gte\": 26.0, \"$lte\": 156.0}\n",
    "        }))\n",
    "    # Disaster Rescue or Individual Tracking filter\n",
    "    elif filter_type == 'disaster':\n",
    "        df = pd.DataFrame.from_records(animals.read({\n",
    "            \"animal_type\": \"Dog\",\n",
    "            \"breed\": {\"$in\": [\"Doberman Pinscher\", \"German Shepherd\", \"Golden Retriever\", \"Bloodhound\", \"Rottweiler\"]},\n",
    "            \"sex_upon_outcome\": \"Intact Male\",\n",
    "            \"age_upon_outcome_in_weeks\": {\"$gte\": 20.0, \"$lte\": 300.0}\n",
    "        }))\n",
    "    # Reset to no filter\n",
    "    else:\n",
    "        df = pd.DataFrame.from_records(animals.read({}))\n",
    "    \n",
    "    columns = [{\"name\": i, \"id\": i, \"deletable\": False, \"selectable\": True} for i in df.columns]\n",
    "    data = df.to_dict('records')\n",
    "    \n",
    "    return data, columns\n",
    "\n",
    "# Change background color of selected columns\n",
    "@app.callback(\n",
    "    Output('datatable-id', 'style_data_conditional'),\n",
    "    [Input('datatable-id', 'selected_columns')]\n",
    ")\n",
    "def update_styles(selected_columns):\n",
    "    return [{\n",
    "        'if': {'column_id': i},\n",
    "        'background_color': '#D2F3FF'\n",
    "    } for i in selected_columns]\n",
    "\n",
    "# Chart\n",
    "@app.callback(\n",
    "    Output('graph-id', \"children\"),\n",
    "    [Input('datatable-id', \"derived_virtual_data\")]\n",
    ")\n",
    "def update_graphs(viewData):\n",
    "    dff = pd.DataFrame.from_dict(viewData)\n",
    "    \n",
    "    return [\n",
    "        dcc.Graph(            \n",
    "            figure = px.histogram(dff, x='breed', title='Distribution of Breeds')\n",
    "        )    \n",
    "    ]\n",
    "\n",
    "# Map\n",
    "@app.callback(\n",
    "    Output('map-id', \"children\"),\n",
    "    [Input('datatable-id', \"derived_virtual_data\"),\n",
    "     Input('datatable-id', 'derived_virtual_selected_rows')]\n",
    ")\n",
    "def update_map(viewData, selected_rows):\n",
    "    dff = pd.DataFrame.from_dict(viewData)\n",
    "    \n",
    "    if selected_rows is None or len(selected_rows) == 0:\n",
    "        return []\n",
    "    \n",
    "    selected_row = selected_rows[-1]  # Get the last selected row index\n",
    "    lat = dff.iloc[selected_row, 13]  # Latitude\n",
    "    lon = dff.iloc[selected_row, 14]  # Longitude\n",
    "    \n",
    "    return [\n",
    "        dl.Map(style={'width': '1000px', 'height': '500px'}, center=[lat, lon], zoom=10, children=[\n",
    "            dl.TileLayer(id=\"base-layer-id\"),\n",
    "            dl.Marker(position=[lat, lon], children=[\n",
    "                dl.Tooltip(dff.iloc[selected_row, 4]),  # Breed\n",
    "                dl.Popup([\n",
    "                    html.H1(\"Animal Name\"),\n",
    "                    html.P(dff.iloc[selected_row, 9])  # Name of the animal\n",
    "                ])\n",
    "            ])\n",
    "        ])\n",
    "    ]\n",
    "\n",
    "if __name__ == '__main__':\n",
    "    app.run_server(debug=False)\n",
    "\n"
   ]
  },
  {
   "cell_type": "code",
   "execution_count": null,
   "id": "872cd5e0",
   "metadata": {},
   "outputs": [],
   "source": []
  },
  {
   "cell_type": "code",
   "execution_count": null,
   "id": "ce04bbec",
   "metadata": {},
   "outputs": [],
   "source": []
  }
 ],
 "metadata": {
  "kernelspec": {
   "display_name": "Python 3 (ipykernel)",
   "language": "python",
   "name": "python3"
  },
  "language_info": {
   "codemirror_mode": {
    "name": "ipython",
    "version": 3
   },
   "file_extension": ".py",
   "mimetype": "text/x-python",
   "name": "python",
   "nbconvert_exporter": "python",
   "pygments_lexer": "ipython3",
   "version": "3.9.12"
  }
 },
 "nbformat": 4,
 "nbformat_minor": 5
}
